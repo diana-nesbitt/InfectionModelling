{
 "cells": [
  {
   "cell_type": "code",
   "execution_count": 1,
   "id": "a951458b",
   "metadata": {},
   "outputs": [
    {
     "name": "stdout",
     "output_type": "stream",
     "text": [
      "Using matplotlib backend: <object object at 0x000002840F4812B0>\n"
     ]
    }
   ],
   "source": [
    "#%matplotlib\n",
    "import numpy as np\n",
    "import matplotlib.pyplot as plt\n",
    "import pandas as pd"
   ]
  },
  {
   "cell_type": "code",
   "execution_count": 2,
   "id": "0004fc2f",
   "metadata": {},
   "outputs": [],
   "source": [
    "#Here we define equation 10 in the notes. This is the solution to the logistic equation\n",
    "def LogisticSolution(x0, K, r, t):\n",
    "    return (x0*K*(np.exp(r*t)))/(K-x0+x0*(np.exp(r*t)))"
   ]
  },
  {
   "cell_type": "code",
   "execution_count": 3,
   "id": "51b30486",
   "metadata": {},
   "outputs": [],
   "source": [
    "def TrivialSolution(x0, K, r, t):\n",
    "    return K*0"
   ]
  },
  {
   "cell_type": "code",
   "execution_count": 4,
   "id": "adebea96",
   "metadata": {
    "scrolled": false
   },
   "outputs": [],
   "source": [
    "# an array from -10 to 10 with a step of 0.1\n",
    "#creates the time axis - the step input is the steps in t at which the function evaluates. The meaning of this becomes obvious if you replace 0.1 with, say, 2.\n",
    "t = np.arange(start=0, stop=10, step=0.01)\n",
    "\n",
    "plt.figure(figsize=(16, 9))\n",
    "\n",
    "r=-1\n",
    "K=4\n",
    "x0=3  \n",
    "x_t = LogisticSolution(x0=x0, K=K, r=r, t=t)\n",
    "plt.plot(t, x_t, label='$\\it{x\\N{SUBSCRIPT ZERO}}$' + \" > \" + '$\\it{x_c}$', color='red')\n",
    "\n",
    "plt.axhline(y=1, color='blue', linestyle='dashed')\n",
    "\n",
    "r=1\n",
    "K=1\n",
    "x0=0.5  \n",
    "x_t = LogisticSolution(x0=x0, K=K, r=r, t=t)\n",
    "plt.axhline(y=x0, label='$\\it{x\\N{SUBSCRIPT ZERO}}$'\" < \" + '$\\it{x_c}$', color='blue')\n",
    "\n",
    "r=1\n",
    "K=7\n",
    "x0=1.2\n",
    "x_t = LogisticSolution(x0=x0, K=K, r=r, t=t)\n",
    "plt.plot(t, x_t, label='$\\it{x\\N{SUBSCRIPT ZERO}}$' + \" > \" + '$\\it{x_c}$', color='black')\n",
    "#plt.axhline(y=K, color='black', linestyle='dashed')\n",
    "\n",
    "plt.title(\"Time-Dependent Solutions to the Logistic Equation\", fontsize=30)\n",
    "plt.ylabel('$\\it{x(t)}$', fontsize=30)\n",
    "plt.xlabel('$\\it{t}$', fontsize=30)\n",
    "plt.legend(fontsize=22)\n",
    "plt.xticks(size = 0)\n",
    "plt.yticks(size = 0)\n",
    "plt.xlim(0, 10)\n",
    "plt.ylim(0, 10)\n",
    "\n",
    "plt.text(-0.4, 0.9, '$\\it{x_c}$', fontsize=28)\n",
    "plt.text(-0.22, -0.31, \"0\", fontsize=28)\n",
    "\n",
    "plt.show()"
   ]
  },
  {
   "cell_type": "code",
   "execution_count": 5,
   "id": "9a7b5114",
   "metadata": {},
   "outputs": [],
   "source": [
    "#This function takes the array of x(t) values calulated for the plot above (y values) and outputs an array of f(x) values -where f is equation 5 in the notes.\n",
    "def LogisticODE(arr, K, r):\n",
    "    f_arr = []\n",
    "    for i in range(len(arr)):\n",
    "        xt=float(arr[i])\n",
    "        if xt < 1:\n",
    "            f_arr.append(xt*0) \n",
    "        else:\n",
    "            f_arr.append(r*xt*(1-(xt/K)))\n",
    "    return f_arr"
   ]
  },
  {
   "cell_type": "code",
   "execution_count": 6,
   "id": "36bc20df",
   "metadata": {
    "scrolled": false
   },
   "outputs": [],
   "source": [
    "plt.figure(figsize=(16, 9))\n",
    "\n",
    "x0 = 1.2\n",
    "\n",
    "#this uses the function defined above and generates a list (as in the python object list) of f(x) values as discussed.\n",
    "#Just to note, the function takes in an array and gives out a list (data type wise) but this doesn't affect the plot so all good\n",
    "#This f(x) is equal to dx/dt - again, in notes.\n",
    "f_x = LogisticODE(x_t, K=K, r=r)\n",
    "\n",
    "#plots f(x) values against x(t) values which we calculated for a predetermined time interval (0s - 10s)\n",
    "plt.plot(x_t, f_x, label='$\\it{x\\N{SUBSCRIPT ZERO}}$' + \" > \" + '$\\it{x_c}$', color='black')\n",
    "\n",
    "plt.axvline(x=1.2, ymin=0, ymax=0.33, color='black', linestyle='dashed')\n",
    "#plt.axvline(x=K, ymin=0, ymax=0.25, color='black', linestyle='dashed')\n",
    "#plt.axhline(y=0, xmin=0, xmax=10, color='black')\n",
    "\n",
    "#graph stuff again as before\n",
    "plt.title(\"Logistic Equation for \"'$\\it{x\\N{SUBSCRIPT ZERO}}$' + \" > \" + '$\\it{x_c}$', fontsize=30)\n",
    "plt.ylabel('$\\it{f(x)}$', fontsize=30)\n",
    "plt.xlabel('$\\it{x(t)}$', fontsize=30)\n",
    "#plt.legend(fontsize=22)\n",
    "plt.xlim(0, 8)\n",
    "plt.ylim(0, 3)\n",
    "plt.xticks(size = 0)\n",
    "plt.yticks(size = 0)\n",
    "plt.text(1.1, -0.2, '$\\it{x_0}$', fontsize=28)\n",
    "plt.text(6.9, -0.2, '$\\it{x_{max}}$', fontsize=28)\n",
    "#plt.text(0, -1.23, \"0\", fontsize=28)\n",
    "plt.text(-0.25, -0.1, \"0\", fontsize=28)\n",
    "\n",
    "plt.show()"
   ]
  },
  {
   "cell_type": "code",
   "execution_count": 7,
   "id": "b7cacdb2",
   "metadata": {},
   "outputs": [
    {
     "name": "stdout",
     "output_type": "stream",
     "text": [
      "f(9)=\n",
      "0.0015507808235973336\n",
      "\n",
      "\n",
      "f(x) for x at t=2 =\n",
      "1.6734838169584838\n"
     ]
    }
   ],
   "source": [
    "x=9\n",
    "print(f\"f({x})=\")\n",
    "print(np.interp(x, x_t, f_x))\n",
    "print(\"\\n\")\n",
    "\n",
    "time=2\n",
    "x=np.interp(time, t, x_t)\n",
    "print(f\"f(x) for x at t={time} =\")\n",
    "print(np.interp(x, x_t, f_x))"
   ]
  },
  {
   "cell_type": "code",
   "execution_count": null,
   "id": "79af54bc",
   "metadata": {},
   "outputs": [],
   "source": []
  },
  {
   "cell_type": "code",
   "execution_count": null,
   "id": "3b3ed3bf",
   "metadata": {},
   "outputs": [],
   "source": []
  }
 ],
 "metadata": {
  "kernelspec": {
   "display_name": "Python 3 (ipykernel)",
   "language": "python",
   "name": "python3"
  },
  "language_info": {
   "codemirror_mode": {
    "name": "ipython",
    "version": 3
   },
   "file_extension": ".py",
   "mimetype": "text/x-python",
   "name": "python",
   "nbconvert_exporter": "python",
   "pygments_lexer": "ipython3",
   "version": "3.9.13"
  }
 },
 "nbformat": 4,
 "nbformat_minor": 5
}
